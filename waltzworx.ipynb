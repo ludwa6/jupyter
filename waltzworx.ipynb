{
 "cells": [
  {
   "cell_type": "markdown",
   "metadata": {
    "collapsed": false
   },
   "source": [
    "# Exploring Jupyter\n",
    "Q: is there life on this planet?\n",
    "\n",
    "## The Interface\n",
    "It's all cells....\n",
    "\n",
    "## The code\n",
    "\n",
    "Q: Can i insert some old (i.e. v-2.x) Python, and will it run here?\n",
    "\n",
    "A: Insert, yes... But run, not necessarily (see below)"
   ]
  },
  {
   "cell_type": "code",
   "execution_count": 0,
   "metadata": {
    "collapsed": false,
    "scrolled": true
   },
   "outputs": [
   ],
   "source": [
    "# guess a number between 1 and 100 in seven tries\n",
    "import random\n",
    "answer = 'yes'\n",
    "while answer == \"yes\":\n",
    "    NumToGuess = random.randint(1, 100)\n",
    "    NumOfTry = 7\n",
    "    print ('')\n",
    "    print (\"I am thinking of a number between 1 and 100\")\n",
    "    print (\"Try to guess the number in 7 tries\")\n",
    "    print ('')\n",
    "    while NumOfTry != 0:\n",
    "        try:\n",
    "            x = int (input (\"Please enter a number:  \"))\n",
    "            if x > NumToGuess:\n",
    "                NumOfTry = NumOfTry - 1\n",
    "                print (\"You guessed \",x,\"... That's too high!\")\n",
    "                print (\"You have\",NumOfTry, \"attempt(s) left\")\n",
    "                print (\"\")\n",
    "            elif x < NumToGuess:\n",
    "                print (\"You guessed \",x,\"... That's too low!\")\n",
    "                NumOfTry = NumOfTry - 1\n",
    "                print (\"You have \",NumOfTry, \"attempt(s) left\")\n",
    "                print (\"\")\n",
    "            elif x == NumToGuess:\n",
    "                print (\"You Win, Congratulations!!!\")\n",
    "                NumOfTry = 0\n",
    "        except:\n",
    "            print (\"Please enter a valid number. For example 1, 5 an 44 are valid numbers to input.\")\n",
    "    else:\n",
    "        print (\"The number to guess was: \") + str(NumToGuess)\n",
    "        answer = raw_input ('Do you want to play again? (yes/no)')\n",
    "else:\n",
    "    print (\"Thank you for playing. Goodbye\")"
   ]
  },
  {
   "cell_type": "code",
   "execution_count": 0,
   "metadata": {
    "collapsed": false
   },
   "outputs": [
   ],
   "source": [
    "# This is a guess the number game. NB: requires python 3!\n",
    "import random\n",
    "\n",
    "guessesTaken = 0\n",
    "\n",
    "print('Hello! What is your name?')\n",
    "myName = input()\n",
    "\n",
    "number = random.randint(1, 20)\n",
    "print('Well, ' + myName + ', I am thinking of a number between 1 and 20.')\n",
    "\n",
    "while guessesTaken < 6:\n",
    "    print('Take a guess.') # There are 4 spaces in front of print.\n",
    "    guess = input()\n",
    "    guess = int(guess)\n",
    "    \n",
    "    guessesTaken = guessesTaken + 1\n",
    "\n",
    "    if guess < number:\n",
    "        print('Your guess is too low.') # There are 8 spaces in front of print.\n",
    "    \n",
    "    if guess > number:\n",
    "        print('Your guess is too high.')\n",
    "    \n",
    "    if guess == number:\n",
    "        break\n",
    "    \n",
    "if guess == number:\n",
    "    guessesTaken = str(guessesTaken)\n",
    "    print('Good job, ' + myName + '! You guessed my number in ' + guessesTaken + ' guesses!')\n",
    "    \n",
    "if guess != number:\n",
    "    number = str(number)\n",
    "    print('Nope. The number i was thinking of was ' + number)"
   ]
  },
  {
   "cell_type": "markdown",
   "metadata": {
    "collapsed": false
   },
   "source": [
    "![img source](https://upload.wikimedia.org/wikipedia/commons/2/2d/Google-favicon-2015.png)"
   ]
  },
  {
   "cell_type": "markdown",
   "metadata": {
    "collapsed": false
   },
   "source": [
    "<iframe src=\"https://www.google.com/maps/d/u/0/embed?mid=1INy_84TauULKsgo9DTVkR4A-4NskV5iY\" width=\"640\" height=\"480\"></iframe>"
   ]
  },
  {
   "cell_type": "markdown",
   "metadata": {
    "collapsed": false
   },
   "source": [
    "![img source](https://en.wikipedia.org/wiki/File:Adoption_SFD_ANI_s.gif)"
   ]
  },
  {
   "cell_type": "markdown",
   "metadata": {
    "collapsed": false
   },
   "source": [
    "<iframe width=\"560\" height=\"315\" src=\"https://www.youtube.com/embed/7Nt0v4YAAVg\" frameborder=\"0\" allow=\"autoplay; encrypted-media\" allowfullscreen></iframe>"
   ]
  },
  {
   "cell_type": "code",
   "execution_count": 0,
   "metadata": {
    "collapsed": false
   },
   "outputs": [
   ],
   "source": [
   ]
  }
 ],
 "metadata": {
  "kernelspec": {
   "display_name": "Python 3 (Anaconda)",
   "language": "python",
   "name": "anaconda3"
  },
  "language_info": {
   "codemirror_mode": {
    "name": "ipython",
    "version": 3
   },
   "file_extension": ".py",
   "mimetype": "text/x-python",
   "name": "python",
   "nbconvert_exporter": "python",
   "pygments_lexer": "ipython3",
   "version": "3.5.5"
  }
 },
 "nbformat": 4,
 "nbformat_minor": 0
}